{
  "nbformat": 4,
  "nbformat_minor": 0,
  "metadata": {
    "colab": {
      "provenance": [],
      "authorship_tag": "ABX9TyOkHI6Gff3pmuFD1HRFtnwC",
      "include_colab_link": true
    },
    "kernelspec": {
      "name": "python3",
      "display_name": "Python 3"
    },
    "language_info": {
      "name": "python"
    }
  },
  "cells": [
    {
      "cell_type": "markdown",
      "metadata": {
        "id": "view-in-github",
        "colab_type": "text"
      },
      "source": [
        "<a href=\"https://colab.research.google.com/github/ahilgithub/Basics-of-python/blob/main/Data_Structures.ipynb\" target=\"_parent\"><img src=\"https://colab.research.google.com/assets/colab-badge.svg\" alt=\"Open In Colab\"/></a>"
      ]
    },
    {
      "cell_type": "code",
      "source": [
        "1.Write a code to reverse a string."
      ],
      "metadata": {
        "id": "XxqYGiburtsB"
      },
      "execution_count": null,
      "outputs": []
    },
    {
      "cell_type": "code",
      "source": [
        "def reverse_string(s):\n",
        "    return s[::-1]\n",
        "\n",
        "# Example\n",
        "string = \"Hello, World!\"\n",
        "reversed_string = reverse_string(string)\n",
        "print(reversed_string)\n"
      ],
      "metadata": {
        "colab": {
          "base_uri": "https://localhost:8080/"
        },
        "id": "YZL7GPfStA0S",
        "outputId": "4a19255a-8995-4d26-b795-ba5fa0be5ec6"
      },
      "execution_count": null,
      "outputs": [
        {
          "output_type": "stream",
          "name": "stdout",
          "text": [
            "!dlroW ,olleH\n"
          ]
        }
      ]
    },
    {
      "cell_type": "code",
      "source": [
        "2.Write a code to count the number of vowels in a string.\n"
      ],
      "metadata": {
        "id": "RJ6GQgEDtlgx"
      },
      "execution_count": null,
      "outputs": []
    },
    {
      "cell_type": "code",
      "source": [
        "def count_vowels(s):\n",
        "    vowels = \"aeiouAEIOU\"\n",
        "    return sum(1 for char in s if char in vowels)\n",
        "\n",
        "# Example\n",
        "string = \"Hello, World!\"\n",
        "vowel_count = count_vowels(string)\n",
        "print(vowel_count)\n"
      ],
      "metadata": {
        "colab": {
          "base_uri": "https://localhost:8080/"
        },
        "id": "dAwqcu3luqH7",
        "outputId": "7cde8b97-380b-4868-fcb1-c0961274133d"
      },
      "execution_count": null,
      "outputs": [
        {
          "output_type": "stream",
          "name": "stdout",
          "text": [
            "3\n"
          ]
        }
      ]
    },
    {
      "cell_type": "code",
      "source": [
        "3.Write a code to check if a given string is a palindrome or not."
      ],
      "metadata": {
        "id": "Fc-svLn5u1tJ"
      },
      "execution_count": null,
      "outputs": []
    },
    {
      "cell_type": "code",
      "source": [
        "def is_palindrome(s):\n",
        "\n",
        "    cleaned = ''.join(char.lower() for char in s if char.isalnum())\n",
        "\n",
        "    return cleaned == cleaned[::-1]\n",
        "\n",
        "# Example\n",
        "string = \"A man, a plan, a canal, Panama!\"\n",
        "if is_palindrome(string):\n",
        "    print(\"The string is a palindrome.\")\n",
        "else:\n",
        "    print(\"The string is not a palindrome.\")\n"
      ],
      "metadata": {
        "colab": {
          "base_uri": "https://localhost:8080/"
        },
        "id": "_v93CViSvNAD",
        "outputId": "aba15e49-39eb-459c-a10c-3fcc050287e9"
      },
      "execution_count": null,
      "outputs": [
        {
          "output_type": "stream",
          "name": "stdout",
          "text": [
            "The string is a palindrome.\n"
          ]
        }
      ]
    },
    {
      "cell_type": "code",
      "source": [
        "4. Write a code to check if two given strings are anagrams of each other."
      ],
      "metadata": {
        "id": "zJRNKoozv3PI"
      },
      "execution_count": null,
      "outputs": []
    },
    {
      "cell_type": "code",
      "source": [
        "def are_anagrams(str1, str2):\n",
        "    str1 = str1.replace(\" \", \"\").lower()\n",
        "    str2 = str2.replace(\" \", \"\").lower()\n",
        "    if len(str1) != len(str2):\n",
        "        return False\n",
        "    char_count = {}\n",
        "\n",
        "    for char in str1:\n",
        "        char_count[char] = char_count.get(char, 0) + 1\n",
        "\n",
        "    for char in str2:\n",
        "        if char in char_count:\n",
        "            char_count[char] -= 1\n",
        "        else:\n",
        "            return False\n",
        "    return all(count == 0 for count in char_count.values())\n",
        "\n",
        "# Example\n",
        "string1 = \"Listen\"\n",
        "string2 = \"Silent\"\n",
        "if are_anagrams(string1, string2):\n",
        "    print(f\"'{string1}' and '{string2}' are anagrams.\")\n",
        "else:\n",
        "    print(f\"'{string1}' and '{string2}' are not anagrams.\")\n"
      ],
      "metadata": {
        "colab": {
          "base_uri": "https://localhost:8080/"
        },
        "id": "McH7aDgBwYaR",
        "outputId": "8f85fbdb-1900-485f-de4a-40ef33534be8"
      },
      "execution_count": null,
      "outputs": [
        {
          "output_type": "stream",
          "name": "stdout",
          "text": [
            "'Listen' and 'Silent' are anagrams.\n"
          ]
        }
      ]
    },
    {
      "cell_type": "code",
      "source": [
        "5. Write a code to find all occurrences of a given substring within another string."
      ],
      "metadata": {
        "id": "KXv7pftCw0JP"
      },
      "execution_count": null,
      "outputs": []
    },
    {
      "cell_type": "code",
      "source": [
        "def find_all_occurrences(text, substring):\n",
        "    return [i for i in range(len(text)) if text.startswith(substring, i)]\n",
        "\n",
        "# Example\n",
        "text = \"This is a test. This test is only a test.\"\n",
        "substring = \"test\"\n",
        "positions = find_all_occurrences(text, substring)\n",
        "print(\"Occurrences at positions:\", positions)\n"
      ],
      "metadata": {
        "colab": {
          "base_uri": "https://localhost:8080/"
        },
        "id": "3vsMHR1KxFY5",
        "outputId": "667b6e0c-321e-4c1d-ecc4-e4b6a63315ed"
      },
      "execution_count": null,
      "outputs": [
        {
          "output_type": "stream",
          "name": "stdout",
          "text": [
            "Occurrences at positions: [10, 21, 36]\n"
          ]
        }
      ]
    },
    {
      "cell_type": "code",
      "source": [
        "6.Write a code to perform basic string compression using the counts of repeated characters."
      ],
      "metadata": {
        "id": "TbGUYQcJxY_L"
      },
      "execution_count": null,
      "outputs": []
    },
    {
      "cell_type": "code",
      "source": [
        "def compress_string(s):\n",
        "    if not s:\n",
        "        return \"\"\n",
        "\n",
        "    compressed = []\n",
        "    count = 1\n",
        "\n",
        "    for i in range(1, len(s)):\n",
        "        if s[i] == s[i - 1]:\n",
        "            count += 1\n",
        "        else:\n",
        "            compressed.append(s[i - 1] + (str(count) if count > 1 else ''))\n",
        "            count = 1\n",
        "\n",
        "    compressed.append(s[-1] + (str(count) if count > 1 else ''))\n",
        "    compressed_string = ''.join(compressed)\n",
        "\n",
        "    return compressed_string if len(compressed_string) < len(s) else s\n",
        "\n",
        "# Example\n",
        "input_string = \"aabcccccaaa\"\n",
        "compressed = compress_string(input_string)\n",
        "print(f\"Original: {input_string}\")\n",
        "print(f\"Compressed: {compressed}\")\n"
      ],
      "metadata": {
        "colab": {
          "base_uri": "https://localhost:8080/"
        },
        "id": "ZcnpHPfnxjrr",
        "outputId": "bffb5be6-7e82-4ecb-dae4-57cd7b0ebe82"
      },
      "execution_count": null,
      "outputs": [
        {
          "output_type": "stream",
          "name": "stdout",
          "text": [
            "Original: aabcccccaaa\n",
            "Compressed: a2bc5a3\n"
          ]
        }
      ]
    },
    {
      "cell_type": "code",
      "source": [
        "7. Write a code to determine if a string has all unique characters."
      ],
      "metadata": {
        "id": "2Nsj_P9mxyyl"
      },
      "execution_count": null,
      "outputs": []
    },
    {
      "cell_type": "code",
      "source": [
        "def has_unique_characters(s):\n",
        "    return len(s) == len(set(s))\n",
        "\n",
        "# Example\n",
        "input_string = \"abcdefg\"\n",
        "if has_unique_characters(input_string):\n",
        "    print(f\"The string '{input_string}' has all unique characters.\")\n",
        "else:\n",
        "    print(f\"The string '{input_string}' does not have all unique characters.\")\n"
      ],
      "metadata": {
        "colab": {
          "base_uri": "https://localhost:8080/"
        },
        "id": "CKNeABcfyEVp",
        "outputId": "a2d9ddb0-80ae-4bea-f6db-266020ddb1f0"
      },
      "execution_count": null,
      "outputs": [
        {
          "output_type": "stream",
          "name": "stdout",
          "text": [
            "The string 'abcdefg' has all unique characters.\n"
          ]
        }
      ]
    },
    {
      "cell_type": "code",
      "source": [
        "8.Write a code to convert a given string to uppercase or lowercase."
      ],
      "metadata": {
        "id": "G1XeuU_WyOUC"
      },
      "execution_count": null,
      "outputs": []
    },
    {
      "cell_type": "code",
      "source": [
        "# Convert to uppercase\n",
        "original_string = \"Hello, World!\"\n",
        "uppercase_string = original_string.upper()\n",
        "print(\"Uppercase:\", uppercase_string)\n",
        "\n",
        "# Convert to lowercase\n",
        "lowercase_string = original_string.lower()\n",
        "print(\"Lowercase:\", lowercase_string)\n"
      ],
      "metadata": {
        "colab": {
          "base_uri": "https://localhost:8080/"
        },
        "id": "lxKA1jpbyxiC",
        "outputId": "bc8a2fec-2a15-4803-e5d9-515d9e1667cc"
      },
      "execution_count": null,
      "outputs": [
        {
          "output_type": "stream",
          "name": "stdout",
          "text": [
            "Uppercase: HELLO, WORLD!\n",
            "Lowercase: hello, world!\n"
          ]
        }
      ]
    },
    {
      "cell_type": "code",
      "source": [
        "9.Write a code to count the number of words in a string."
      ],
      "metadata": {
        "id": "VUkkus5TzDAS"
      },
      "execution_count": null,
      "outputs": []
    },
    {
      "cell_type": "code",
      "source": [
        "def count_words(s) :\n",
        "    words = s.split()\n",
        "    return len(words)\n",
        "\n",
        "# Example\n",
        "input_string = \"Hello, how are you today?\"\n",
        "word_count = count_words(input_string)\n",
        "print(f\"The number of words in the string is: {word_count}\")\n"
      ],
      "metadata": {
        "colab": {
          "base_uri": "https://localhost:8080/"
        },
        "id": "5Ap5eelezYKi",
        "outputId": "2002f390-7f31-45aa-bd71-7e97e3ac1bae"
      },
      "execution_count": null,
      "outputs": [
        {
          "output_type": "stream",
          "name": "stdout",
          "text": [
            "The number of words in the string is: 5\n"
          ]
        }
      ]
    },
    {
      "cell_type": "code",
      "source": [
        "10.Write a code to concatenate two strings without using the + operator."
      ],
      "metadata": {
        "id": "nwrueskIz3V-"
      },
      "execution_count": null,
      "outputs": []
    },
    {
      "cell_type": "code",
      "source": [
        "def concatenate_strings(str1, str2):\n",
        "    return ''.join([str1, str2])\n",
        "\n",
        "# Example\n",
        "string1 = \"Hello, \"\n",
        "string2 = \"World!\"\n",
        "result = concatenate_strings(string1, string2)\n",
        "print(result)\n"
      ],
      "metadata": {
        "colab": {
          "base_uri": "https://localhost:8080/"
        },
        "id": "MPhjePVq0InP",
        "outputId": "957fa4d2-e695-4a40-8e0b-762730d61f5b"
      },
      "execution_count": null,
      "outputs": [
        {
          "output_type": "stream",
          "name": "stdout",
          "text": [
            "Hello, World!\n"
          ]
        }
      ]
    },
    {
      "cell_type": "code",
      "source": [
        "11.Write a code to remove all occurrences of a specific element from a list."
      ],
      "metadata": {
        "id": "jM5Gmb6Y0V9M"
      },
      "execution_count": null,
      "outputs": []
    },
    {
      "cell_type": "code",
      "source": [
        "def remove_occurrences(lst, element):\n",
        "    return [item for item in lst if item != element]\n",
        "\n",
        "# Example:\n",
        "my_list = [1, 2, 3, 4, 2, 5, 2, 6]\n",
        "element_to_remove = 2\n",
        "new_list = remove_occurrences(my_list, element_to_remove)\n",
        "print(new_list)\n"
      ],
      "metadata": {
        "colab": {
          "base_uri": "https://localhost:8080/"
        },
        "id": "kc8JGMLJD0Hi",
        "outputId": "452a04c4-4e8d-4b0a-fc9f-8fe0c53459f0"
      },
      "execution_count": null,
      "outputs": [
        {
          "output_type": "stream",
          "name": "stdout",
          "text": [
            "[1, 3, 4, 5, 6]\n"
          ]
        }
      ]
    },
    {
      "cell_type": "code",
      "source": [
        "12.Implement a code to find the second largest number in a given list of integers."
      ],
      "metadata": {
        "id": "lDvuCXRwEMJf"
      },
      "execution_count": null,
      "outputs": []
    },
    {
      "cell_type": "code",
      "source": [
        "def second_largest(lst):\n",
        "    if len(lst) < 2:\n",
        "        return None\n",
        "\n",
        "    unique_nums = list(set(lst))\n",
        "    unique_nums.sort(reverse=True)\n",
        "\n",
        "    return unique_nums[1] if len(unique_nums) > 1 else None\n",
        "\n",
        "# Example:\n",
        "numbers = [10, 20, 4, 45, 99, 99, 45]\n",
        "print(second_largest(numbers))\n"
      ],
      "metadata": {
        "colab": {
          "base_uri": "https://localhost:8080/"
        },
        "id": "IKXHC8-FEoqB",
        "outputId": "26d8e964-5039-4dbf-b181-326ee127ffca"
      },
      "execution_count": null,
      "outputs": [
        {
          "output_type": "stream",
          "name": "stdout",
          "text": [
            "45\n"
          ]
        }
      ]
    },
    {
      "cell_type": "code",
      "source": [
        "13.Create a code to count the occurrences of each element in a list and return a dictionary with elements as\n",
        "keys and their counts as values."
      ],
      "metadata": {
        "id": "utmirMqhFF4G"
      },
      "execution_count": null,
      "outputs": []
    },
    {
      "cell_type": "code",
      "source": [
        "def count_occurrences(lst):\n",
        "    counts = {}\n",
        "    for item in lst:\n",
        "        counts[item] = counts.get(item, 0) + 1\n",
        "    return counts\n",
        "\n",
        "# Example:\n",
        "my_list = [1, 2, 2, 3, 3, 3, 4, 4, 4, 4]\n",
        "result = count_occurrences(my_list)\n",
        "print(result)\n"
      ],
      "metadata": {
        "colab": {
          "base_uri": "https://localhost:8080/"
        },
        "id": "nGK2fbwcFTTg",
        "outputId": "18e1377f-3a62-455d-f7d9-eeeb930958e9"
      },
      "execution_count": null,
      "outputs": [
        {
          "output_type": "stream",
          "name": "stdout",
          "text": [
            "{1: 1, 2: 2, 3: 3, 4: 4}\n"
          ]
        }
      ]
    },
    {
      "cell_type": "code",
      "source": [
        "14.Write a code to reverse a list in-place without using any built-in reverse functions."
      ],
      "metadata": {
        "id": "1WPY_43aFm5U"
      },
      "execution_count": null,
      "outputs": []
    },
    {
      "cell_type": "code",
      "source": [
        "def reverse_list(lst):\n",
        "    left, right = 0, len(lst) - 1\n",
        "\n",
        "    while left < right:\n",
        "        lst[left], lst[right] = lst[right], lst[left]\n",
        "        left += 1\n",
        "        right -= 1\n",
        "\n",
        "# Example:\n",
        "my_list = [1, 2, 3, 4, 5]\n",
        "reverse_list(my_list)\n",
        "print(my_list)\n"
      ],
      "metadata": {
        "colab": {
          "base_uri": "https://localhost:8080/"
        },
        "id": "94NFT3gjF0ou",
        "outputId": "b99a8e43-17ab-4801-9c8c-3669dd37caec"
      },
      "execution_count": null,
      "outputs": [
        {
          "output_type": "stream",
          "name": "stdout",
          "text": [
            "[5, 4, 3, 2, 1]\n"
          ]
        }
      ]
    },
    {
      "cell_type": "code",
      "source": [
        "15.Implement a code to find and remove duplicates from a list while preserving the original order of\n",
        "elements."
      ],
      "metadata": {
        "id": "SF6hn3QAGGh6"
      },
      "execution_count": null,
      "outputs": []
    },
    {
      "cell_type": "code",
      "source": [
        "def remove_duplicates(lst):\n",
        "    seen = set()\n",
        "    result = []\n",
        "\n",
        "    for item in lst:\n",
        "        if item not in seen:\n",
        "            seen.add(item)\n",
        "            result.append(item)\n",
        "\n",
        "    return result\n",
        "\n",
        "# Example:\n",
        "my_list = [1, 2, 3, 2, 4, 3, 5, 6, 5]\n",
        "new_list = remove_duplicates(my_list)\n",
        "print(new_list)\n"
      ],
      "metadata": {
        "colab": {
          "base_uri": "https://localhost:8080/"
        },
        "id": "WXo6Ng4CGRzl",
        "outputId": "f9305ed2-c86b-489c-dbcc-907cfbf1bd6f"
      },
      "execution_count": null,
      "outputs": [
        {
          "output_type": "stream",
          "name": "stdout",
          "text": [
            "[1, 2, 3, 4, 5, 6]\n"
          ]
        }
      ]
    },
    {
      "cell_type": "code",
      "source": [
        "16.Create a code to check if a given list is sorted (either in ascending or descending order) or not."
      ],
      "metadata": {
        "id": "fc09AZpGGiJ8"
      },
      "execution_count": null,
      "outputs": []
    },
    {
      "cell_type": "code",
      "source": [
        "def is_sorted(lst):\n",
        "    if lst == sorted(lst):\n",
        "        return \"Ascending\"\n",
        "    elif lst == sorted(lst, reverse=True):\n",
        "        return \"Descending\"\n",
        "    else:\n",
        "        return \"Not sorted\"\n",
        "\n",
        "# Example:\n",
        "print(is_sorted([1, 2, 3, 4, 5]))\n",
        "print(is_sorted([5, 4, 3, 2, 1]))\n",
        "print(is_sorted([1, 3, 2, 4, 5]))\n"
      ],
      "metadata": {
        "colab": {
          "base_uri": "https://localhost:8080/"
        },
        "id": "uMTxU4fkGx3_",
        "outputId": "6880e1bd-86c1-430b-97ad-8904d3c4e8c7"
      },
      "execution_count": null,
      "outputs": [
        {
          "output_type": "stream",
          "name": "stdout",
          "text": [
            "Ascending\n",
            "Descending\n",
            "Not sorted\n"
          ]
        }
      ]
    },
    {
      "cell_type": "code",
      "source": [
        "17. Write a code to merge two sorted lists into a single sorted list."
      ],
      "metadata": {
        "id": "Evh2M7SXHE2T"
      },
      "execution_count": null,
      "outputs": []
    },
    {
      "cell_type": "code",
      "source": [
        "def merge_sorted_lists(lst1, lst2):\n",
        "    merged = []\n",
        "    i, j = 0, 0\n",
        "    while i < len(lst1) and j < len(lst2):\n",
        "        if lst1[i] < lst2[j]:\n",
        "            merged.append(lst1[i])\n",
        "            i += 1\n",
        "        else:\n",
        "            merged.append(lst2[j])\n",
        "            j += 1\n",
        "\n",
        "    merged.extend(lst1[i:])\n",
        "    merged.extend(lst2[j:])\n",
        "\n",
        "    return merged\n",
        "\n",
        "# Example:\n",
        "list1 = [1, 3, 5, 7]\n",
        "list2 = [2, 4, 6, 8]\n",
        "result = merge_sorted_lists(list1, list2)\n",
        "print(result)\n"
      ],
      "metadata": {
        "colab": {
          "base_uri": "https://localhost:8080/"
        },
        "id": "L5D3eRkLIwFl",
        "outputId": "39a67797-9fdf-43f1-cc4f-9cee39004a02"
      },
      "execution_count": null,
      "outputs": [
        {
          "output_type": "stream",
          "name": "stdout",
          "text": [
            "[1, 2, 3, 4, 5, 6, 7, 8]\n"
          ]
        }
      ]
    },
    {
      "cell_type": "code",
      "source": [
        "18.Implement a code to find the intersection of two given lists."
      ],
      "metadata": {
        "id": "bsO4stKHJzEJ"
      },
      "execution_count": null,
      "outputs": []
    },
    {
      "cell_type": "code",
      "source": [
        "def list_intersection(lst1, lst2):\n",
        "    return list(set(lst1) & set(lst2))\n",
        "\n",
        "# Example:\n",
        "list1 = [1, 2, 3, 4, 5]\n",
        "list2 = [3, 4, 5, 6, 7]\n",
        "result = list_intersection(list1, list2)\n",
        "print(result)\n"
      ],
      "metadata": {
        "colab": {
          "base_uri": "https://localhost:8080/"
        },
        "id": "vNKXb6RVKCN0",
        "outputId": "b76a062f-b30e-4022-ef96-e225a26725b8"
      },
      "execution_count": null,
      "outputs": [
        {
          "output_type": "stream",
          "name": "stdout",
          "text": [
            "[3, 4, 5]\n"
          ]
        }
      ]
    },
    {
      "cell_type": "code",
      "source": [
        "19.Create a code to find the union of two lists without duplicates."
      ],
      "metadata": {
        "id": "lTaXkcqrKUKm"
      },
      "execution_count": null,
      "outputs": []
    },
    {
      "cell_type": "code",
      "source": [
        "def list_union(lst1, lst2):\n",
        "    return list(set(lst1) | set(lst2))\n",
        "\n",
        "# Example:\n",
        "list1 = [1, 2, 3, 4, 5]\n",
        "list2 = [3, 4, 5, 6, 7]\n",
        "result = list_union(list1, list2)\n",
        "print(result)\n"
      ],
      "metadata": {
        "colab": {
          "base_uri": "https://localhost:8080/"
        },
        "id": "3fDT0NGcKeGF",
        "outputId": "5b641b5f-f325-4c09-b64a-a99a49b66abf"
      },
      "execution_count": null,
      "outputs": [
        {
          "output_type": "stream",
          "name": "stdout",
          "text": [
            "[1, 2, 3, 4, 5, 6, 7]\n"
          ]
        }
      ]
    },
    {
      "cell_type": "code",
      "source": [
        "20.Write a code to shuffle a given list randomly without using any built-in shuffle functions."
      ],
      "metadata": {
        "id": "ymeZlp2GKwgA"
      },
      "execution_count": null,
      "outputs": []
    },
    {
      "cell_type": "code",
      "source": [
        "import random\n",
        "\n",
        "def custom_shuffle(lst):\n",
        "    n = len(lst)\n",
        "    for i in range(n - 1, 0, -1):\n",
        "        j = random.randint(0, i)\n",
        "        lst[i], lst[j] = lst[j], lst[i]\n",
        "\n",
        "# Example:\n",
        "my_list = [1, 2, 3, 4, 5]\n",
        "custom_shuffle(my_list)\n",
        "print(my_list)\n"
      ],
      "metadata": {
        "colab": {
          "base_uri": "https://localhost:8080/"
        },
        "id": "GNwkh842K7Br",
        "outputId": "ac8648cf-a83c-4454-decb-6da40061b72b"
      },
      "execution_count": null,
      "outputs": [
        {
          "output_type": "stream",
          "name": "stdout",
          "text": [
            "[3, 2, 1, 5, 4]\n"
          ]
        }
      ]
    },
    {
      "cell_type": "code",
      "source": [
        "21.Write a code that takes two tuples as input and returns a new tuple containing elements that are\n",
        "common to both input tuples."
      ],
      "metadata": {
        "id": "gwE3bsRlLKxY"
      },
      "execution_count": null,
      "outputs": []
    },
    {
      "cell_type": "code",
      "source": [
        "def common_elements(tuple1, tuple2):\n",
        "    return tuple(set(tuple1) & set(tuple2))\n",
        "\n",
        "# Example:\n",
        "tuple1 = (1, 2, 3, 4, 5)\n",
        "tuple2 = (3, 4, 5, 6, 7)\n",
        "result = common_elements(tuple1, tuple2)\n",
        "print(result)\n"
      ],
      "metadata": {
        "colab": {
          "base_uri": "https://localhost:8080/"
        },
        "id": "_zrc7GGTNBg4",
        "outputId": "f90da608-e8a7-427e-9cbf-3da824103fbc"
      },
      "execution_count": null,
      "outputs": [
        {
          "output_type": "stream",
          "name": "stdout",
          "text": [
            "(3, 4, 5)\n"
          ]
        }
      ]
    },
    {
      "cell_type": "code",
      "source": [
        "22.Create a code that prompts the user to enter two sets of integers separated by commas. Then, print the\n",
        "intersection of these two sets."
      ],
      "metadata": {
        "id": "fHY06YJmNasI"
      },
      "execution_count": null,
      "outputs": []
    },
    {
      "cell_type": "code",
      "source": [
        "def count_occurrences(tpl: tuple, element) -> int:\n",
        "    \"\"\"\n",
        "    Returns the count of occurrences of an element in a tuple.\n",
        "\n",
        "    :param tpl: The input tuple\n",
        "    :param element: The element to count occurrences of\n",
        "    :return: The number of times the element appears in the tuple\n",
        "    \"\"\"\n",
        "    return tpl.count(element)\n",
        "\n",
        "# Example usage\n",
        "tuple_data = (1, 2, 3, 4, 1, 2, 1, 5)\n",
        "element_to_count = 1\n",
        "print(count_occurrences(tuple_data, element_to_count))  # Output: 3\n",
        "\n",
        "# Code to find symmetric difference of two sets of strings\n",
        "def symmetric_difference():\n",
        "    set1 = set(input(\"Enter first set of strings (comma-separated): \").split(','))\n",
        "    set2 = set(input(\"Enter second set of strings (comma-separated): \").split(','))\n",
        "\n",
        "    sym_diff = set1.symmetric_difference(set2)\n",
        "    print(\"Symmetric Difference:\", sym_diff)\n",
        "\n",
        "# Example\n",
        "symmetric_difference()\n",
        "\n",
        "# Code to count word frequencies\n",
        "def word_frequencies(word_list):\n",
        "    \"\"\"\n",
        "    Returns a dictionary with unique words as keys and their frequencies as values.\n",
        "\n",
        "    :param word_list: List of words\n",
        "    :return: Dictionary with word frequencies\n",
        "    \"\"\"\n",
        "    frequency_dict = {}\n",
        "    for word in word_list:\n",
        "        frequency_dict[word] = frequency_dict.get(word, 0) + 1\n",
        "    return frequency_dict\n",
        "\n",
        "# Example\n",
        "words = [\"apple\", \"banana\", \"apple\", \"orange\", \"banana\", \"banana\"]\n",
        "print(word_frequencies(words))\n",
        "\n",
        "# Code to merge two dictionaries\n",
        "def merge_dictionaries(dict1, dict2):\n",
        "    \"\"\"\n",
        "    Merges two dictionaries, adding values for common keys.\n",
        "\n",
        "    :param dict1: First dictionary\n",
        "    :param dict2: Second dictionary\n",
        "    :return: Merged dictionary with summed values for common keys\n",
        "    \"\"\"\n",
        "    merged_dict = dict1.copy()\n",
        "    for key, value in dict2.items():\n",
        "        merged_dict[key] = merged_dict.get(key, 0) + value\n",
        "    return merged_dict\n",
        "\n",
        "# Example\n",
        "dict_a = {\"a\": 1, \"b\": 2, \"c\": 3}\n",
        "dict_b = {\"b\": 3, \"c\": 4, \"d\": 5}\n",
        "print(merge_dictionaries(dict_a, dict_b))\n",
        "\n",
        "# Code to access a value in a nested dictionary\n",
        "def get_nested_value(nested_dict, keys):\n",
        "    \"\"\"\n",
        "    Retrieves a value from a nested dictionary using a list of keys.\n",
        "\n",
        "    :param nested_dict: The nested dictionary\n",
        "    :param keys: List of keys to access the desired value\n",
        "    :return: The corresponding value or None if any key is missing\n",
        "    \"\"\"\n",
        "    current = nested_dict\n",
        "    for key in keys:\n",
        "        if isinstance(current, dict) and key in current:\n",
        "            current = current[key]\n",
        "        else:\n",
        "            return None\n",
        "    return current\n",
        "\n",
        "# Example\n",
        "nested_dict_example = {\"a\": {\"b\": {\"c\": 42}}}\n",
        "keys_to_access = [\"a\", \"b\", \"c\"]\n",
        "print(get_nested_value(nested_dict_example, keys_to_access))  # Output: 42\n",
        "\n",
        "# Code to sort a dictionary by values\n",
        "def sort_dictionary_by_value(input_dict, ascending=True):\n",
        "    \"\"\"\n",
        "    Returns a sorted dictionary based on values.\n",
        "\n",
        "    :param input_dict: Dictionary to sort\n",
        "    :param ascending: Boolean flag to determine sort order (True for ascending, False for descending)\n",
        "    :return: Sorted dictionary\n",
        "    \"\"\"\n",
        "    return dict(sorted(input_dict.items(), key=lambda item: item[1], reverse=not ascending))\n",
        "\n",
        "# Example\n",
        "unsorted_dict = {\"a\": 3, \"b\": 1, \"c\": 2}\n",
        "print(sort_dictionary_by_value(unsorted_dict, ascending=True))\n",
        "\n",
        "# Code to invert a dictionary\n",
        "def invert_dictionary(input_dict):\n",
        "    \"\"\"\n",
        "    Inverts a dictionary, swapping keys and values.\n",
        "    If multiple keys have the same value, store them as a list.\n",
        "\n",
        "    :param input_dict: Dictionary to invert\n",
        "    :return: Inverted dictionary with lists for duplicate values\n",
        "    \"\"\"\n",
        "    inverted_dict = {}\n",
        "    for key, value in input_dict.items():\n",
        "        if value in inverted_dict:\n",
        "            inverted_dict[value].append(key)\n",
        "        else:\n",
        "            inverted_dict[value] = [key]\n",
        "    return inverted_dict\n",
        "\n",
        "# Example\n",
        "original_dict = {\"a\": 1, \"b\": 2, \"c\": 1, \"d\": 3}\n",
        "print(invert_dictionary(original_dict))\n",
        "\n",
        "# Code to find the intersection of two sets of integers\n",
        "def intersection_of_sets():\n",
        "    \"\"\"\n",
        "    Prompts the user to enter two sets of integers and prints their intersection.\n",
        "    \"\"\"\n",
        "    set1 = set(map(int, input(\"Enter first set of integers (comma-separated): \").split(',')))\n",
        "    set2 = set(map(int, input(\"Enter second set of integers (comma-separated): \").split(',')))\n",
        "\n",
        "    intersection = set1.intersection(set2)\n",
        "    print(\"Intersection:\", intersection)\n",
        "\n",
        "# Example\n",
        "intersection_of_sets()\n"
      ],
      "metadata": {
        "id": "70waJvNmm0h4"
      },
      "execution_count": null,
      "outputs": []
    },
    {
      "cell_type": "code",
      "source": [
        "23. Write a code to concatenate two tuples. The function should take two tuples as input and return a new\n",
        "tuple containing elements from both input tuples."
      ],
      "metadata": {
        "id": "8gjQKug8lfpR"
      },
      "execution_count": null,
      "outputs": []
    },
    {
      "cell_type": "code",
      "source": [
        "def concatenate_tuples(tuple1, tuple2):\n",
        "    \"\"\"Concatenates two tuples and returns the result.\"\"\"\n",
        "    return tuple1 + tuple2\n",
        "\n",
        "# Example:\n",
        "tuple1 = (1, 2, 3)\n",
        "tuple2 = (4, 5, 6)\n",
        "result = concatenate_tuples(tuple1, tuple2)\n",
        "print(\"Concatenated tuple:\", result)\n"
      ],
      "metadata": {
        "colab": {
          "base_uri": "https://localhost:8080/"
        },
        "id": "CtRjH0qql2Ag",
        "outputId": "6721e988-83dc-4695-c3cb-b33c8964f402"
      },
      "execution_count": null,
      "outputs": [
        {
          "output_type": "stream",
          "name": "stdout",
          "text": [
            "Concatenated tuple: (1, 2, 3, 4, 5, 6)\n"
          ]
        }
      ]
    },
    {
      "cell_type": "code",
      "source": [
        "24. Develop a code that prompts the user to input two sets of strings. Then, print the elements that are\n",
        "present in the first set but not in the second set."
      ],
      "metadata": {
        "id": "ZNUHQ3YtmjHr"
      },
      "execution_count": null,
      "outputs": []
    },
    {
      "cell_type": "code",
      "source": [
        "def get_set_from_input(prompt):\n",
        "    return set(input(prompt).split(','))\n",
        "\n",
        "# Get input from the user\n",
        "set1 = get_set_from_input(\"Enter the first set of strings, separated by commas: \")\n",
        "set2 = get_set_from_input(\"Enter the second set of strings, separated by commas: \")\n",
        "\n",
        "# Compute the difference\n",
        "difference = set1 - set2\n",
        "\n",
        "# Print the result\n",
        "print(\"Elements present in the first set but not in the second set:\", difference)\n"
      ],
      "metadata": {
        "id": "YPY1E_9BnHJT"
      },
      "execution_count": null,
      "outputs": []
    },
    {
      "cell_type": "code",
      "source": [
        "25. Create a code that takes a tuple and two integers as input. The function should return a new tuple\n",
        "containing elements from the original tuple within the specified range of indices."
      ],
      "metadata": {
        "id": "kNk8ST9_nUAJ"
      },
      "execution_count": null,
      "outputs": []
    },
    {
      "cell_type": "code",
      "source": [
        "def slice_tuple(input_tuple, start, end):\n",
        "    \"\"\"Returns a new tuple containing elements within the specified index range.\"\"\"\n",
        "    return input_tuple[start:end]\n",
        "\n",
        "# Example:\n",
        "tuple_data = (10, 20, 30, 40, 50, 60)\n",
        "start_index = int(input(\"Enter the start index: \"))\n",
        "end_index = int(input(\"Enter the end index: \"))\n",
        "\n",
        "result = slice_tuple(tuple_data, start_index, end_index)\n",
        "print(\"Sliced tuple:\", result)\n"
      ],
      "metadata": {
        "id": "0Dk1x25LnkQ7"
      },
      "execution_count": null,
      "outputs": []
    },
    {
      "cell_type": "code",
      "source": [
        "26. Write a code that prompts the user to input two sets of characters. Then, print the union of these two sets."
      ],
      "metadata": {
        "id": "x1ReOgEgnxTq"
      },
      "execution_count": null,
      "outputs": []
    },
    {
      "cell_type": "code",
      "source": [
        "def get_set_from_input(prompt):\n",
        "    return set(input(prompt).replace(\" \", \"\").split(','))\n",
        "\n",
        "# Get input from the user\n",
        "set1 = get_set_from_input(\"Enter the first set of characters, separated by commas: \")\n",
        "set2 = get_set_from_input(\"Enter the second set of characters, separated by commas: \")\n",
        "\n",
        "# Compute the union\n",
        "union_set = set1 | set2\n",
        "\n",
        "# Print the result\n",
        "print(\"Union of the two sets:\", union_set)\n"
      ],
      "metadata": {
        "id": "pnfydwD8n8qA"
      },
      "execution_count": null,
      "outputs": []
    },
    {
      "cell_type": "code",
      "source": [
        "27.Develop a code that takes a tuple of integers as input. The function should return the maximum and\n",
        "minimum values from the tuple using tuple unpacking."
      ],
      "metadata": {
        "id": "t9pd_8_MoOEu"
      },
      "execution_count": null,
      "outputs": []
    },
    {
      "cell_type": "code",
      "source": [
        "def min_max_tuple(input_tuple):\n",
        "    \"\"\"Returns the minimum and maximum values from the tuple using tuple unpacking.\"\"\"\n",
        "    min_value, max_value = min(input_tuple), max(input_tuple)\n",
        "    return min_value, max_value\n",
        "\n",
        "# Example:\n",
        "tuple_data = tuple(map(int, input(\"Enter integers separated by commas: \").split(',')))\n",
        "min_val, max_val = min_max_tuple(tuple_data)\n",
        "print(\"Minimum value:\", min_val)\n",
        "print(\"Maximum value:\", max_val)\n"
      ],
      "metadata": {
        "id": "aCSfINYiomwE"
      },
      "execution_count": null,
      "outputs": []
    },
    {
      "cell_type": "code",
      "source": [
        "28.Create a code that defines two sets of integers. Then, print the union, intersection, and difference of these\n",
        "two sets."
      ],
      "metadata": {
        "id": "o__TMGC1oy6n"
      },
      "execution_count": null,
      "outputs": []
    },
    {
      "cell_type": "code",
      "source": [
        "# Define two sets of integers\n",
        "set1 = {1, 2, 3, 4, 5}\n",
        "set2 = {4, 5, 6, 7, 8}\n",
        "\n",
        "# Compute union, intersection, and difference\n",
        "union_set = set1 | set2\n",
        "intersection_set = set1 & set2\n",
        "difference_set = set1 - set2\n",
        "\n",
        "# Print the results\n",
        "print(\"Union:\", union_set)\n",
        "print(\"Intersection:\", intersection_set)\n",
        "print(\"Difference (set1 - set2):\", difference_set)\n"
      ],
      "metadata": {
        "id": "F_tQIwTwpVqz"
      },
      "execution_count": null,
      "outputs": []
    },
    {
      "cell_type": "code",
      "source": [
        "29.Write a code that takes a tuple and an element as input. The function should return the count of\n",
        "occurrences of the given element in the tuple."
      ],
      "metadata": {
        "id": "XIxAJ_sqpqMh"
      },
      "execution_count": null,
      "outputs": []
    },
    {
      "cell_type": "code",
      "source": [
        "def count_occurrences(tpl: tuple, element) -> int:\n",
        "    \"\"\"\n",
        "    Returns the count of occurrences of an element in a tuple.\n",
        "\n",
        "    :param tpl: The input tuple\n",
        "    :param element: The element to count occurrences of\n",
        "    :return: The number of times the element appears in the tuple\n",
        "    \"\"\"\n",
        "    return tpl.count(element)\n",
        "\n",
        "# Example:\n",
        "tuple_data = (1, 2, 3, 4, 1, 2, 1, 5)\n",
        "element_to_count = 1\n",
        "print(count_occurrences(tuple_data, element_to_count))\n"
      ],
      "metadata": {
        "colab": {
          "base_uri": "https://localhost:8080/"
        },
        "id": "0PTqC2xGTyhI",
        "outputId": "31823c3c-8a2b-4115-fbdc-a06b454fb8d5"
      },
      "execution_count": 1,
      "outputs": [
        {
          "output_type": "stream",
          "name": "stdout",
          "text": [
            "3\n"
          ]
        }
      ]
    },
    {
      "cell_type": "code",
      "source": [
        "30.Develop a code that prompts the user to input two sets of strings. Then, print the symmetric difference of\n",
        "these two sets."
      ],
      "metadata": {
        "id": "smz-4xU-UL2i"
      },
      "execution_count": null,
      "outputs": []
    },
    {
      "cell_type": "code",
      "source": [
        "def count_occurrences(tpl: tuple, element) -> int:\n",
        "    \"\"\"\n",
        "    Returns the count of occurrences of an element in a tuple.\n",
        "\n",
        "    :param tpl: The input tuple\n",
        "    :param element: The element to count occurrences of\n",
        "    :return: The number of times the element appears in the tuple\n",
        "    \"\"\"\n",
        "    return tpl.count(element)\n",
        "\n",
        "# Example\n",
        "tuple_data = (1, 2, 3, 4, 1, 2, 1, 5)\n",
        "element_to_count = 1\n",
        "print(count_occurrences(tuple_data, element_to_count))\n",
        "\n",
        "# Code to find symmetric difference of two sets of strings\n",
        "def symmetric_difference():\n",
        "    set1 = set(input(\"Enter first set of strings (comma-separated): \").split(','))\n",
        "    set2 = set(input(\"Enter second set of strings (comma-separated): \").split(','))\n",
        "\n",
        "    sym_diff = set1.symmetric_difference(set2)\n",
        "    print(\"Symmetric Difference:\", sym_diff)\n",
        "\n",
        "# Example\n",
        "symmetric_difference()\n"
      ],
      "metadata": {
        "colab": {
          "base_uri": "https://localhost:8080/"
        },
        "id": "ZwhP8mtXUZdR",
        "outputId": "40bebb32-05e3-4277-fe6a-df4f1b59032e"
      },
      "execution_count": null,
      "outputs": [
        {
          "output_type": "stream",
          "name": "stdout",
          "text": [
            "3\n"
          ]
        }
      ]
    },
    {
      "cell_type": "code",
      "source": [
        "31.Write a code that takes a list of words as input and returns a dictionary where the keys are unique words\n",
        "and the values are the frequencies of those words in the input list."
      ],
      "metadata": {
        "id": "zCrgSpLIUv5h"
      },
      "execution_count": null,
      "outputs": []
    },
    {
      "cell_type": "code",
      "source": [
        "def count_occurrences(tpl: tuple, element) -> int:\n",
        "    \"\"\"\n",
        "    Returns the count of occurrences of an element in a tuple.\n",
        "\n",
        "    :param tpl: The input tuple\n",
        "    :param element: The element to count occurrences of\n",
        "    :return: The number of times the element appears in the tuple\n",
        "    \"\"\"\n",
        "    return tpl.count(element)\n",
        "\n",
        "# Example usage\n",
        "tuple_data = (1, 2, 3, 4, 1, 2, 1, 5)\n",
        "element_to_count = 1\n",
        "print(count_occurrences(tuple_data, element_to_count))  # Output: 3\n",
        "\n",
        "# Code to find symmetric difference of two sets of strings\n",
        "def symmetric_difference():\n",
        "    set1 = set(input(\"Enter first set of strings (comma-separated): \").split(','))\n",
        "    set2 = set(input(\"Enter second set of strings (comma-separated): \").split(','))\n",
        "\n",
        "    sym_diff = set1.symmetric_difference(set2)\n",
        "    print(\"Symmetric Difference:\", sym_diff)\n",
        "\n",
        "# Example\n",
        "symmetric_difference()\n",
        "\n",
        "# Code to count word frequencies\n",
        "def word_frequencies(word_list):\n",
        "    \"\"\"\n",
        "    Returns a dictionary with unique words as keys and their frequencies as values.\n",
        "\n",
        "    :param word_list: List of words\n",
        "    :return: Dictionary with word frequencies\n",
        "    \"\"\"\n",
        "    frequency_dict = {}\n",
        "    for word in word_list:\n",
        "        frequency_dict[word] = frequency_dict.get(word, 0) + 1\n",
        "    return frequency_dict\n",
        "\n",
        "# Example\n",
        "words = [\"apple\", \"banana\", \"apple\", \"orange\", \"banana\", \"banana\"]\n",
        "print(word_frequencies(words))\n"
      ],
      "metadata": {
        "id": "97DzI8lnVAmd"
      },
      "execution_count": null,
      "outputs": []
    },
    {
      "cell_type": "code",
      "source": [
        "32.Write a code that takes two dictionaries as input and merges them into a single dictionary. If there are\n",
        "common keys, the values should be added together."
      ],
      "metadata": {
        "id": "WOEzVmMyVbT2"
      },
      "execution_count": null,
      "outputs": []
    },
    {
      "cell_type": "code",
      "source": [
        "def count_occurrences(tpl: tuple, element) -> int:\n",
        "    \"\"\"\n",
        "    Returns the count of occurrences of an element in a tuple.\n",
        "\n",
        "    :param tpl: The input tuple\n",
        "    :param element: The element to count occurrences of\n",
        "    :return: The number of times the element appears in the tuple\n",
        "    \"\"\"\n",
        "    return tpl.count(element)\n",
        "\n",
        "# Example usage\n",
        "tuple_data = (1, 2, 3, 4, 1, 2, 1, 5)\n",
        "element_to_count = 1\n",
        "print(count_occurrences(tuple_data, element_to_count))  # Output: 3\n",
        "\n",
        "# Code to find symmetric difference of two sets of strings\n",
        "def symmetric_difference():\n",
        "    set1 = set(input(\"Enter first set of strings (comma-separated): \").split(','))\n",
        "    set2 = set(input(\"Enter second set of strings (comma-separated): \").split(','))\n",
        "\n",
        "    sym_diff = set1.symmetric_difference(set2)\n",
        "    print(\"Symmetric Difference:\", sym_diff)\n",
        "\n",
        "# Example\n",
        "symmetric_difference()\n",
        "\n",
        "# Code to count word frequencies\n",
        "def word_frequencies(word_list):\n",
        "    \"\"\"\n",
        "    Returns a dictionary with unique words as keys and their frequencies as values.\n",
        "\n",
        "    :param word_list: List of words\n",
        "    :return: Dictionary with word frequencies\n",
        "    \"\"\"\n",
        "    frequency_dict = {}\n",
        "    for word in word_list:\n",
        "        frequency_dict[word] = frequency_dict.get(word, 0) + 1\n",
        "    return frequency_dict\n",
        "\n",
        "# Example\n",
        "words = [\"apple\", \"banana\", \"apple\", \"orange\", \"banana\", \"banana\"]\n",
        "print(word_frequencies(words))\n",
        "\n",
        "# Code to merge two dictionaries\n",
        "def merge_dictionaries(dict1, dict2):\n",
        "    \"\"\"\n",
        "    Merges two dictionaries, adding values for common keys.\n",
        "\n",
        "    :param dict1: First dictionary\n",
        "    :param dict2: Second dictionary\n",
        "    :return: Merged dictionary with summed values for common keys\n",
        "    \"\"\"\n",
        "    merged_dict = dict1.copy()\n",
        "    for key, value in dict2.items():\n",
        "        merged_dict[key] = merged_dict.get(key, 0) + value\n",
        "    return merged_dict\n",
        "\n",
        "# Example\n",
        "dict_a = {\"a\": 1, \"b\": 2, \"c\": 3}\n",
        "dict_b = {\"b\": 3, \"c\": 4, \"d\": 5}\n",
        "print(merge_dictionaries(dict_a, dict_b))\n"
      ],
      "metadata": {
        "id": "_KHvmAjLVpPK"
      },
      "execution_count": null,
      "outputs": []
    },
    {
      "cell_type": "code",
      "source": [
        "33.Write a code to access a value in a nested dictionary. The function should take the dictionary and a list of\n",
        "keys as input, and return the corresponding value. If any of the keys do not exist in the dictionary, the\n",
        "function should return None."
      ],
      "metadata": {
        "id": "Rg8FgDu6ZILF"
      },
      "execution_count": null,
      "outputs": []
    },
    {
      "cell_type": "code",
      "source": [
        "def count_occurrences(tpl: tuple, element) -> int:\n",
        "    \"\"\"\n",
        "    Returns the count of occurrences of an element in a tuple.\n",
        "\n",
        "    :param tpl: The input tuple\n",
        "    :param element: The element to count occurrences of\n",
        "    :return: The number of times the element appears in the tuple\n",
        "    \"\"\"\n",
        "    return tpl.count(element)\n",
        "\n",
        "# Example\n",
        "tuple_data = (1, 2, 3, 4, 1, 2, 1, 5)\n",
        "element_to_count = 1\n",
        "print(count_occurrences(tuple_data, element_to_count))\n",
        "\n",
        "# Code to find symmetric difference of two sets of strings\n",
        "def symmetric_difference():\n",
        "    set1 = set(input(\"Enter first set of strings (comma-separated): \").split(','))\n",
        "    set2 = set(input(\"Enter second set of strings (comma-separated): \").split(','))\n",
        "\n",
        "    sym_diff = set1.symmetric_difference(set2)\n",
        "    print(\"Symmetric Difference:\", sym_diff)\n",
        "\n",
        "# Example\n",
        "symmetric_difference()\n",
        "\n",
        "# Code to count word frequencies\n",
        "def word_frequencies(word_list):\n",
        "    \"\"\"\n",
        "    Returns a dictionary with unique words as keys and their frequencies as values.\n",
        "\n",
        "    :param word_list: List of words\n",
        "    :return: Dictionary with word frequencies\n",
        "    \"\"\"\n",
        "    frequency_dict = {}\n",
        "    for word in word_list:\n",
        "        frequency_dict[word] = frequency_dict.get(word, 0) + 1\n",
        "    return frequency\n",
        "    #Example\n",
        "words = [\"apple\", \"banana\", \"apple\", \"orange\", \"banana\", \"banana\"]\n",
        "print(word_frequencies(words))\n",
        "\n",
        "# Code to merge two dictionaries\n",
        "def merge_dictionaries(dict1, dict2):\n",
        "    \"\"\"\n",
        "    Merges two dictionaries, adding values for common keys.\n",
        "\n",
        "    :param dict1: First dictionary\n",
        "    :param dict2: Second dictionary\n",
        "    :return: Merged dictionary with summed values for common keys\n",
        "    \"\"\"\n",
        "    merged_dict = dict1.copy()\n",
        "    for key, value in dict2.items():\n",
        "        merged_dict[key] = merged_dict.get(key, 0) + value\n",
        "    return merged_dict\n",
        "\n",
        "# Example\n",
        "dict_a = {\"a\": 1, \"b\": 2, \"c\": 3}\n",
        "dict_b = {\"b\": 3, \"c\": 4, \"d\": 5}\n",
        "print(merge_dictionaries(dict_a, dict_b))\n",
        "\n",
        "# Code to access a value in a nested dictionary\n",
        "def get_nested_value(nested_dict, keys):\n",
        "    \"\"\"\n",
        "    Retrieves a value from a nested dictionary using a list of keys.\n",
        "\n",
        "    :param nested_dict: The nested dictionary\n",
        "    :param keys: List of keys to access the desired value\n",
        "    :return: The corresponding value or None if any key is missing\n",
        "    \"\"\"\n",
        "    current = nested_dict\n",
        "    for key in keys:\n",
        "        if isinstance(current, dict) and key in current:\n",
        "            current = current[key]\n",
        "        else:\n",
        "            return None\n",
        "    return current\n",
        "\n",
        "# Example\n",
        "nested_dict_example = {\"a\": {\"b\": {\"c\": 42}}}\n",
        "keys_to_access = [\"a\", \"b\", \"c\"]\n",
        "print(get_nested_value(nested_dict_example, keys_to_access))\n"
      ],
      "metadata": {
        "id": "0wzYoCkgZcIX"
      },
      "execution_count": null,
      "outputs": []
    },
    {
      "cell_type": "code",
      "source": [
        "34. Write a code that takes a dictionary as input and returns a sorted version of it based on the values. You\n",
        "can choose whether to sort in ascending or descending order."
      ],
      "metadata": {
        "id": "Hh8x4uuEaW2p"
      },
      "execution_count": null,
      "outputs": []
    },
    {
      "cell_type": "code",
      "source": [
        "def count_occurrences(tpl: tuple, element) -> int:\n",
        "    \"\"\"\n",
        "    Returns the count of occurrences of an element in a tuple.\n",
        "\n",
        "    :param tpl: The input tuple\n",
        "    :param element: The element to count occurrences of\n",
        "    :return: The number of times the element appears in the tuple\n",
        "    \"\"\"\n",
        "    return tpl.count(element)\n",
        "\n",
        "# Example\n",
        "tuple_data = (1, 2, 3, 4, 1, 2, 1, 5)\n",
        "element_to_count = 1\n",
        "print(count_occurrences(tuple_data, element_to_count))  # Output: 3\n",
        "\n",
        "# Code to find symmetric difference of two sets of strings\n",
        "def symmetric_difference():\n",
        "    set1 = set(input(\"Enter first set of strings (comma-separated): \").split(','))\n",
        "    set2 = set(input(\"Enter second set of strings (comma-separated): \").split(','))\n",
        "\n",
        "    sym_diff = set1.symmetric_difference(set2)\n",
        "    print(\"Symmetric Difference:\", sym_diff)\n",
        "\n",
        "# Example\n",
        "symmetric_difference()\n",
        "\n",
        "# Code to count word frequencies\n",
        "def word_frequencies(word_list):\n",
        "    \"\"\"\n",
        "    Returns a dictionary with unique words as keys and their frequencies as values.\n",
        "\n",
        "    :param word_list: List of words\n",
        "    :return: Dictionary with word frequencies\n",
        "    \"\"\"\n",
        "    frequency_dict = {}\n",
        "    for word in word_list:\n",
        "        frequency_dict[word] = frequency_dict.get(word, 0) + 1\n",
        "    return frequency_dict\n",
        "\n",
        "# Example\n",
        "words = [\"apple\", \"banana\", \"apple\", \"orange\", \"banana\", \"banana\"]\n",
        "print(word_frequencies(words))\n",
        "\n",
        "# Code to merge two dictionaries\n",
        "def merge_dictionaries(dict1, dict2):\n",
        "    \"\"\"\n",
        "    Merges two dictionaries, adding values for common keys.\n",
        "\n",
        "    :param dict1: First dictionary\n",
        "    :param dict2: Second dictionary\n",
        "    :return: Merged dictionary with summed values for common keys\n",
        "    \"\"\"\n",
        "    merged_dict = dict1.copy()\n",
        "    for key, value in dict2.items():\n",
        "        merged_dict[key] = merged_dict.get(key, 0) + value\n",
        "    return merged_dict\n",
        "\n",
        "# Example\n",
        "dict_a = {\"a\": 1, \"b\": 2, \"c\": 3}\n",
        "dict_b = {\"b\": 3, \"c\": 4, \"d\": 5}\n",
        "print(merge_dictionaries(dict_a, dict_b))\n",
        "\n",
        "# Code to access a value in a nested dictionary\n",
        "def get_nested_value(nested_dict, keys):\n",
        "    \"\"\"\n",
        "    Retrieves a value from a nested dictionary using a list of keys.\n",
        "\n",
        "    :param nested_dict: The nested dictionary\n",
        "    :param keys: List of keys to access the desired value\n",
        "    :return: The corresponding value or None if any key is missing\n",
        "    \"\"\"\n",
        "    current = nested_dict\n",
        "    for key in keys:\n",
        "        if isinstance(current, dict) and key in current:\n",
        "            current = current[key]\n",
        "        else:\n",
        "            return None\n",
        "    return current\n",
        "\n",
        "# Example\n",
        "nested_dict_example = {\"a\": {\"b\": {\"c\": 42}}}\n",
        "keys_to_access = [\"a\", \"b\", \"c\"]\n",
        "print(get_nested_value(nested_dict_example, keys_to_access))\n",
        "\n",
        "# Code to sort a dictionary by values\n",
        "def sort_dictionary_by_value(input_dict, ascending=True):\n",
        "    \"\"\"\n",
        "    Returns a sorted dictionary based on values.\n",
        "\n",
        "    :param input_dict: Dictionary to sort\n",
        "    :param ascending: Boolean flag to determine sort order (True for ascending, False for descending)\n",
        "    :return: Sorted dictionary\n",
        "    \"\"\"\n",
        "    return dict(sorted(input_dict.items(), key=lambda item: item[1], reverse=not ascending))\n",
        "\n",
        "# Example\n",
        "unsorted_dict = {\"a\": 3, \"b\": 1, \"c\": 2}\n",
        "print(sort_dictionary_by_value(unsorted_dict, ascending=True))\n"
      ],
      "metadata": {
        "id": "uCFYLyZGag9F"
      },
      "execution_count": null,
      "outputs": []
    },
    {
      "cell_type": "code",
      "source": [
        "35.Write a code that inverts a dictionary, swapping keys and values. Ensure that the inverted dictionary\n",
        "correctly handles cases where multiple keys have the same value by storing the keys as a list in the\n",
        "inverted dictionary."
      ],
      "metadata": {
        "id": "53RKV-1JbdE9"
      },
      "execution_count": null,
      "outputs": []
    },
    {
      "cell_type": "code",
      "source": [
        "def count_occurrences(tpl: tuple, element) -> int:\n",
        "    \"\"\"\n",
        "    Returns the count of occurrences of an element in a tuple.\n",
        "\n",
        "    :param tpl: The input tuple\n",
        "    :param element: The element to count occurrences of\n",
        "    :return: The number of times the element appears in the tuple\n",
        "    \"\"\"\n",
        "    return tpl.count(element)\n",
        "\n",
        "# Example usage\n",
        "tuple_data = (1, 2, 3, 4, 1, 2, 1, 5)\n",
        "element_to_count = 1\n",
        "print(count_occurrences(tuple_data, element_to_count))  # Output: 3\n",
        "\n",
        "# Code to find symmetric difference of two sets of strings\n",
        "def symmetric_difference():\n",
        "    set1 = set(input(\"Enter first set of strings (comma-separated): \").split(','))\n",
        "    set2 = set(input(\"Enter second set of strings (comma-separated): \").split(','))\n",
        "\n",
        "    sym_diff = set1.symmetric_difference(set2)\n",
        "    print(\"Symmetric Difference:\", sym_diff)\n",
        "\n",
        "# Example usage\n",
        "symmetric_difference()\n",
        "\n",
        "# Code to count word frequencies\n",
        "def word_frequencies(word_list):\n",
        "    \"\"\"\n",
        "    Returns a dictionary with unique words as keys and their frequencies as values.\n",
        "\n",
        "    :param word_list: List of words\n",
        "    :return: Dictionary with word frequencies\n",
        "    \"\"\"\n",
        "    frequency_dict = {}\n",
        "    for word in word_list:\n",
        "        frequency_dict[word] = frequency_dict.get(word, 0) + 1\n",
        "    return frequency_dict\n",
        "\n",
        "# Example usage\n",
        "words = [\"apple\", \"banana\", \"apple\", \"orange\", \"banana\", \"banana\"]\n",
        "print(word_frequencies(words))  # Output: {'apple': 2, 'banana': 3, 'orange': 1}\n",
        "\n",
        "# Code to merge two dictionaries\n",
        "def merge_dictionaries(dict1, dict2):\n",
        "    \"\"\"\n",
        "    Merges two dictionaries, adding values for common keys.\n",
        "\n",
        "    :param dict1: First dictionary\n",
        "    :param dict2: Second dictionary\n",
        "    :return: Merged dictionary with summed values for common keys\n",
        "    \"\"\"\n",
        "    merged_dict = dict1.copy()\n",
        "    for key, value in dict2.items():\n",
        "        merged_dict[key] = merged_dict.get(key, 0) + value\n",
        "    return merged_dict\n",
        "\n",
        "# Example usage\n",
        "dict_a = {\"a\": 1, \"b\": 2, \"c\": 3}\n",
        "dict_b = {\"b\": 3, \"c\": 4, \"d\": 5}\n",
        "print(merge_dictionaries(dict_a, dict_b))  # Output: {'a': 1, 'b': 5, 'c': 7, 'd': 5}\n",
        "\n",
        "# Code to access a value in a nested dictionary\n",
        "def get_nested_value(nested_dict, keys):\n",
        "    \"\"\"\n",
        "    Retrieves a value from a nested dictionary using a list of keys.\n",
        "\n",
        "    :param nested_dict: The nested dictionary\n",
        "    :param keys: List of keys to access the desired value\n",
        "    :return: The corresponding value or None if any key is missing\n",
        "    \"\"\"\n",
        "    current = nested_dict\n",
        "    for key in keys:\n",
        "        if isinstance(current, dict) and key in current:\n",
        "            current = current[key]\n",
        "        else:\n",
        "            return None\n",
        "    return current\n",
        "\n",
        "# Example usage\n",
        "nested_dict_example = {\"a\": {\"b\": {\"c\": 42}}}\n",
        "keys_to_access = [\"a\", \"b\", \"c\"]\n",
        "print(get_nested_value(nested_dict_example, keys_to_access))\n",
        "\n",
        "# Code to sort a dictionary by values\n",
        "def sort_dictionary_by_value(input_dict, ascending=True):\n",
        "    \"\"\"\n",
        "    Returns a sorted dictionary based on values.\n",
        "\n",
        "    :param input_dict: Dictionary to sort\n",
        "    :param ascending: Boolean flag to determine sort order (True for ascending, False for descending)\n",
        "    :return: Sorted dictionary\n",
        "    \"\"\"\n",
        "    return dict(sorted(input_dict.items(), key=lambda item: item[1], reverse=not ascending))\n",
        "\n",
        "# Example\n",
        "unsorted_dict = {\"a\": 3, \"b\": 1, \"c\": 2}\n",
        "print(sort_dictionary_by_value(unsorted_dict, ascending=True))\n",
        "\n",
        "# Code to invert a dictionary\n",
        "def invert_dictionary(input_dict):\n",
        "    \"\"\"\n",
        "    Inverts a dictionary, swapping keys and values.\n",
        "    If multiple keys have the same value, store them as a list.\n",
        "\n",
        "    :param input_dict: Dictionary to invert\n",
        "    :return: Inverted dictionary with lists for duplicate values\n",
        "    \"\"\"\n",
        "    inverted_dict = {}\n",
        "    for key, value in input_dict.items():\n",
        "        if value in inverted_dict:\n",
        "            inverted_dict[value].append(key)\n",
        "        else:\n",
        "            inverted_dict[value] = [key]\n",
        "    return inverted_dict\n",
        "\n",
        "# Example\n",
        "original_dict = {\"a\": 1, \"b\": 2, \"c\": 1, \"d\": 3}\n",
        "print(invert_dictionary(original_dict))\n"
      ],
      "metadata": {
        "id": "zcs4IU57blO9"
      },
      "execution_count": null,
      "outputs": []
    },
    {
      "cell_type": "code",
      "source": [],
      "metadata": {
        "id": "cBqHfOMkcTqP"
      },
      "execution_count": null,
      "outputs": []
    }
  ]
}